{
  "nbformat": 4,
  "nbformat_minor": 0,
  "metadata": {
    "colab": {
      "provenance": [],
      "authorship_tag": "ABX9TyO6p+nTflvr8SrqXD6PX1Bw",
      "include_colab_link": true
    },
    "kernelspec": {
      "name": "python3",
      "display_name": "Python 3"
    },
    "language_info": {
      "name": "python"
    }
  },
  "cells": [
    {
      "cell_type": "markdown",
      "metadata": {
        "id": "view-in-github",
        "colab_type": "text"
      },
      "source": [
        "<a href=\"https://colab.research.google.com/github/efan868/fetch-coding-exercise/blob/main/code/data_quality.ipynb\" target=\"_parent\"><img src=\"https://colab.research.google.com/assets/colab-badge.svg\" alt=\"Open In Colab\"/></a>"
      ]
    },
    {
      "cell_type": "code",
      "source": [
        "!git config --global user.name \"efan868\"\n",
        "!git config --global user.email \"fane868@gmail.com\"\n",
        "!git clone https://github.com/efan868/fetch-coding-exercise.git\n",
        "!git pull origin main\n",
        "!pip install pandasql\n",
        "\n",
        "import os\n",
        "import json\n",
        "import pandas as pd\n",
        "from pandas import json_normalize\n",
        "import pandasql as psql"
      ],
      "metadata": {
        "id": "EhzzXuFXDsl3",
        "colab": {
          "base_uri": "https://localhost:8080/"
        },
        "outputId": "3cd466f4-feaf-478c-eb3c-25060230fa15"
      },
      "execution_count": null,
      "outputs": [
        {
          "output_type": "stream",
          "name": "stdout",
          "text": [
            "fatal: destination path 'fetch-coding-exercise' already exists and is not an empty directory.\n",
            "remote: Enumerating objects: 26, done.\u001b[K\n",
            "remote: Counting objects: 100% (26/26), done.\u001b[K\n",
            "remote: Compressing objects: 100% (23/23), done.\u001b[K\n",
            "remote: Total 25 (delta 3), reused 0 (delta 0), pack-reused 0 (from 0)\u001b[K\n",
            "Unpacking objects: 100% (25/25), 263.96 KiB | 2.38 MiB/s, done.\n",
            "From https://github.com/efan868/fetch-coding-exercise\n",
            " * branch            main       -> FETCH_HEAD\n",
            "   0fb4a61..fb1681d  main       -> origin/main\n",
            "Updating 0fb4a61..fb1681d\n",
            "Fast-forward\n",
            " message to stakeholders   |  13 \u001b[32m+++++++++\u001b[m\n",
            " model/Data Dictionary.txt |  94 \u001b[32m+++++++++++++++++++++++++++++++++++++++++++++++++++++++++++++++++\u001b[m\n",
            " model/ERD.png             | Bin \u001b[31m0\u001b[m -> \u001b[32m177609\u001b[m bytes\n",
            " sql/questions_answers.sql |  95 \u001b[32m++++++++++++++++++++++++++++++++++++++++++++++++++++++++++++++++++\u001b[m\n",
            " 4 files changed, 202 insertions(+)\n",
            " create mode 100644 message to stakeholders\n",
            " create mode 100644 model/Data Dictionary.txt\n",
            " create mode 100644 model/ERD.png\n",
            " create mode 100644 sql/questions_answers.sql\n",
            "Requirement already satisfied: pandasql in /usr/local/lib/python3.10/dist-packages (0.7.3)\n",
            "Requirement already satisfied: numpy in /usr/local/lib/python3.10/dist-packages (from pandasql) (1.26.4)\n",
            "Requirement already satisfied: pandas in /usr/local/lib/python3.10/dist-packages (from pandasql) (2.2.2)\n",
            "Requirement already satisfied: sqlalchemy in /usr/local/lib/python3.10/dist-packages (from pandasql) (2.0.36)\n",
            "Requirement already satisfied: python-dateutil>=2.8.2 in /usr/local/lib/python3.10/dist-packages (from pandas->pandasql) (2.8.2)\n",
            "Requirement already satisfied: pytz>=2020.1 in /usr/local/lib/python3.10/dist-packages (from pandas->pandasql) (2024.2)\n",
            "Requirement already satisfied: tzdata>=2022.7 in /usr/local/lib/python3.10/dist-packages (from pandas->pandasql) (2024.2)\n",
            "Requirement already satisfied: typing-extensions>=4.6.0 in /usr/local/lib/python3.10/dist-packages (from sqlalchemy->pandasql) (4.12.2)\n",
            "Requirement already satisfied: greenlet!=0.4.17 in /usr/local/lib/python3.10/dist-packages (from sqlalchemy->pandasql) (3.1.1)\n",
            "Requirement already satisfied: six>=1.5 in /usr/local/lib/python3.10/dist-packages (from python-dateutil>=2.8.2->pandas->pandasql) (1.17.0)\n"
          ]
        }
      ]
    },
    {
      "cell_type": "code",
      "source": [
        "file_paths = {\n",
        "    \"receipts\": \"fetch-coding-exercise/data/receipts.json\",\n",
        "    \"brands\": \"fetch-coding-exercise/data/brands.json\",\n",
        "    \"users\": \"fetch-coding-exercise/data/users.json\"\n",
        "}\n",
        "\n",
        "for file_name, file_path in file_paths.items():\n",
        "    print(f\"\\nInspecting {file_name} ({file_path}):\\n\")\n",
        "\n",
        "\n",
        "    if not os.path.exists(file_path):\n",
        "        print(f\"File not found: {file_path}\\n\")\n",
        "        continue\n",
        "\n",
        "    with open(file_path, 'r') as file:\n",
        "        content = file.read()\n",
        "        print(content[:500])\n"
      ],
      "metadata": {
        "colab": {
          "base_uri": "https://localhost:8080/"
        },
        "id": "_RcTb6CqYBOF",
        "outputId": "b899aa93-d567-4847-d571-5cd76a4f5f69"
      },
      "execution_count": null,
      "outputs": [
        {
          "output_type": "stream",
          "name": "stdout",
          "text": [
            "\n",
            "Inspecting receipts (fetch-coding-exercise/data/receipts.json):\n",
            "\n",
            "\n",
            "\n",
            "\n",
            "Inspecting brands (fetch-coding-exercise/data/brands.json):\n",
            "\n",
            "{\"_id\":{\"$oid\":\"601ac115be37ce2ead437551\"},\"barcode\":\"511111019862\",\"category\":\"Baking\",\"categoryCode\":\"BAKING\",\"cpg\":{\"$id\":{\"$oid\":\"601ac114be37ce2ead437550\"},\"$ref\":\"Cogs\"},\"name\":\"test brand @1612366101024\",\"topBrand\":false}\n",
            "{\"_id\":{\"$oid\":\"601c5460be37ce2ead43755f\"},\"barcode\":\"511111519928\",\"brandCode\":\"STARBUCKS\",\"category\":\"Beverages\",\"categoryCode\":\"BEVERAGES\",\"cpg\":{\"$id\":{\"$oid\":\"5332f5fbe4b03c9a25efd0ba\"},\"$ref\":\"Cogs\"},\"name\":\"Starbucks\",\"topBrand\":false}\n",
            "{\"_id\":{\"$oid\":\"601ac142be37\n",
            "\n",
            "Inspecting users (fetch-coding-exercise/data/users.json):\n",
            "\n",
            "{\"_id\":{\"$oid\":\"5ff1e194b6a9d73a3a9f1052\"},\"active\":true,\"createdDate\":{\"$date\":1609687444800},\"lastLogin\":{\"$date\":1609687537858},\"role\":\"consumer\",\"signUpSource\":\"Email\",\"state\":\"WI\"}\n",
            "{\"_id\":{\"$oid\":\"5ff1e194b6a9d73a3a9f1052\"},\"active\":true,\"createdDate\":{\"$date\":1609687444800},\"lastLogin\":{\"$date\":1609687537858},\"role\":\"consumer\",\"signUpSource\":\"Email\",\"state\":\"WI\"}\n",
            "{\"_id\":{\"$oid\":\"5ff1e194b6a9d73a3a9f1052\"},\"active\":true,\"createdDate\":{\"$date\":1609687444800},\"lastLogin\":{\"$date\":160968753785\n"
          ]
        }
      ]
    },
    {
      "cell_type": "markdown",
      "source": [
        "My plan was to load the json files into a pandas dataframe, clean it and run data quality check using sql. However, it appears that there are issues with loading the receipt.json, which prevented me from moving forward with the rest of the exercise and run the sql queries. You can see it above when I inspected it."
      ],
      "metadata": {
        "id": "0BJpukZc3FGX"
      }
    }
  ]
}